{
 "cells": [
  {
   "cell_type": "markdown",
   "id": "135f4564-9e91-480e-bae3-66e5a6966fd3",
   "metadata": {
    "tags": []
   },
   "source": [
    "## Variável é um espaço na memória que usamos para guardar algum tipo de informação ou dado."
   ]
  },
  {
   "cell_type": "code",
   "execution_count": 2,
   "id": "f0c5c92b-98b1-4141-9263-077055482ed1",
   "metadata": {
    "tags": []
   },
   "outputs": [],
   "source": [
    "a= 1"
   ]
  },
  {
   "cell_type": "code",
   "execution_count": 3,
   "id": "18626c2c-1507-4388-b78d-c5a9f9ef242f",
   "metadata": {
    "tags": []
   },
   "outputs": [],
   "source": [
    "b = 2"
   ]
  },
  {
   "cell_type": "code",
   "execution_count": 4,
   "id": "9e8d50fc-b61e-494d-ad8a-01e5ce515b17",
   "metadata": {
    "tags": []
   },
   "outputs": [],
   "source": [
    "s = a + b"
   ]
  },
  {
   "cell_type": "code",
   "execution_count": 5,
   "id": "e57a9c73-8aea-466e-8f9a-2a5b1a13c0e9",
   "metadata": {
    "tags": []
   },
   "outputs": [
    {
     "data": {
      "text/plain": [
       "3"
      ]
     },
     "execution_count": 5,
     "metadata": {},
     "output_type": "execute_result"
    }
   ],
   "source": [
    "s"
   ]
  },
  {
   "cell_type": "code",
   "execution_count": 6,
   "id": "e683d514-44da-4f32-9fc4-eb46becdf0e1",
   "metadata": {
    "tags": []
   },
   "outputs": [],
   "source": [
    "texto = 'Todo texto é uma string'"
   ]
  },
  {
   "cell_type": "code",
   "execution_count": 7,
   "id": "53bb702a-5df4-4310-92c3-6127f00f3ecc",
   "metadata": {
    "tags": []
   },
   "outputs": [
    {
     "data": {
      "text/plain": [
       "'Todo texto é uma string'"
      ]
     },
     "execution_count": 7,
     "metadata": {},
     "output_type": "execute_result"
    }
   ],
   "source": [
    "texto"
   ]
  },
  {
   "cell_type": "code",
   "execution_count": 8,
   "id": "86523550-6152-4427-b06f-3338254b0f63",
   "metadata": {
    "tags": []
   },
   "outputs": [
    {
     "data": {
      "text/plain": [
       "int"
      ]
     },
     "execution_count": 8,
     "metadata": {},
     "output_type": "execute_result"
    }
   ],
   "source": [
    "type(a)"
   ]
  },
  {
   "cell_type": "code",
   "execution_count": 9,
   "id": "74f55f22-9b09-4ea6-a8a4-457c0eccb541",
   "metadata": {
    "tags": []
   },
   "outputs": [],
   "source": [
    "decimal = 1.9235"
   ]
  },
  {
   "cell_type": "code",
   "execution_count": 10,
   "id": "727b62f0-430b-4f4d-a5dc-efa1ee526996",
   "metadata": {
    "tags": []
   },
   "outputs": [
    {
     "data": {
      "text/plain": [
       "1.9235"
      ]
     },
     "execution_count": 10,
     "metadata": {},
     "output_type": "execute_result"
    }
   ],
   "source": [
    "decimal"
   ]
  },
  {
   "cell_type": "code",
   "execution_count": 11,
   "id": "287dc47e-f4ea-4b40-9988-24f1a166a08f",
   "metadata": {
    "tags": []
   },
   "outputs": [
    {
     "data": {
      "text/plain": [
       "float"
      ]
     },
     "execution_count": 11,
     "metadata": {},
     "output_type": "execute_result"
    }
   ],
   "source": [
    "type(decimal)"
   ]
  },
  {
   "cell_type": "code",
   "execution_count": 12,
   "id": "97ba1ce6-685a-4ae1-9bc3-aad67c96e8c8",
   "metadata": {
    "tags": []
   },
   "outputs": [
    {
     "data": {
      "text/plain": [
       "3.611111111111111"
      ]
     },
     "execution_count": 12,
     "metadata": {},
     "output_type": "execute_result"
    }
   ],
   "source": [
    "(2 + 5) / 2 + 3 ** -2"
   ]
  },
  {
   "cell_type": "code",
   "execution_count": 15,
   "id": "168f92ed-a5b9-416d-8447-2b131322bc7a",
   "metadata": {
    "tags": []
   },
   "outputs": [
    {
     "data": {
      "text/plain": [
       "0.1111111111111111"
      ]
     },
     "execution_count": 15,
     "metadata": {},
     "output_type": "execute_result"
    }
   ],
   "source": [
    "3 ** -2"
   ]
  },
  {
   "cell_type": "code",
   "execution_count": 16,
   "id": "8f87bafa-efef-4a8c-8844-b4fd2c0a1ffd",
   "metadata": {
    "tags": []
   },
   "outputs": [
    {
     "data": {
      "text/plain": [
       "3.5"
      ]
     },
     "execution_count": 16,
     "metadata": {},
     "output_type": "execute_result"
    }
   ],
   "source": [
    "(2 + 5) / 2"
   ]
  },
  {
   "cell_type": "code",
   "execution_count": null,
   "id": "a790c0e0-882c-4ce5-b5bb-43cbe43d91a8",
   "metadata": {},
   "outputs": [],
   "source": []
  }
 ],
 "metadata": {
  "kernelspec": {
   "display_name": "Python 3 (ipykernel)",
   "language": "python",
   "name": "python3"
  },
  "language_info": {
   "codemirror_mode": {
    "name": "ipython",
    "version": 3
   },
   "file_extension": ".py",
   "mimetype": "text/x-python",
   "name": "python",
   "nbconvert_exporter": "python",
   "pygments_lexer": "ipython3",
   "version": "3.11.5"
  }
 },
 "nbformat": 4,
 "nbformat_minor": 5
}
